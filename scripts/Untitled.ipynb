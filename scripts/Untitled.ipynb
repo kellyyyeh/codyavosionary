{
 "cells": [
  {
   "cell_type": "code",
   "execution_count": 1,
   "id": "b016a401-ba02-436e-b07b-a706ab5bf78b",
   "metadata": {},
   "outputs": [],
   "source": [
    "import numpy as np\n",
    "import matplotlib.pyplot as plt\n",
    "import tensorflow as tf\n",
    "\n",
    "from tensorflow import keras\n",
    "from tensorflow.keras import layers\n",
    "from tensorflow.keras.datasets import mnist\n",
    "from tensorflow.keras.preprocessing.image import img_to_array, array_to_img\n",
    "from tensorflow.image import resize\n",
    "from tensorflow.keras.utils import to_categorical\n",
    "from tensorflow.keras.models import Sequential"
   ]
  },
  {
   "cell_type": "code",
   "execution_count": 2,
   "id": "4981f5fa-9647-4cd1-9119-243ed9b87d21",
   "metadata": {},
   "outputs": [],
   "source": [
    "(x_train, y_train), (x_test, y_test) = mnist.load_data()\n"
   ]
  },
  {
   "cell_type": "code",
   "execution_count": 3,
   "id": "e9f23719-28cf-4f74-8aa1-6e393ca9866e",
   "metadata": {},
   "outputs": [],
   "source": [
    "# # Expand dimensions to match the input shape (28, 28, 1)\n",
    "# x_train = np.expand_dims(x_train, axis=-1)\n",
    "# x_test = np.expand_dims(x_test, axis=-1)\n",
    "\n",
    "# # Resize images from 28x28 to 50x50\n",
    "# x_train_resized = np.array([resize(img_to_array(array_to_img(img, scale=False)), (50, 50)) for img in x_train])\n",
    "# x_test_resized = np.array([resize(img_to_array(array_to_img(img, scale=False)), (50, 50)) for img in x_test])\n",
    "def resize_images(images, target_size):\n",
    "    return tf.image.resize(images, target_size)\n",
    "\n",
    "x_train = resize_images(x_train[..., np.newaxis], (25, 25)).numpy()\n",
    "x_test = resize_images(x_test[..., np.newaxis], (25, 25)).numpy()"
   ]
  },
  {
   "cell_type": "code",
   "execution_count": 4,
   "id": "9cfaf04f-f2c2-457e-a216-82d626857d3d",
   "metadata": {},
   "outputs": [],
   "source": [
    "x_train = x_train.astype('float32') / 255\n",
    "x_test = x_test.astype('float32') / 255"
   ]
  },
  {
   "cell_type": "code",
   "execution_count": 5,
   "id": "20c72592-2a80-45b7-a9b6-7700ffb0eb9e",
   "metadata": {},
   "outputs": [],
   "source": [
    "y_train = to_categorical(y_train, 10)\n",
    "y_test = to_categorical(y_test, 10)"
   ]
  },
  {
   "cell_type": "code",
   "execution_count": 6,
   "id": "6c34f3ab-dfb3-4612-a299-db7dae8b7807",
   "metadata": {},
   "outputs": [],
   "source": [
    "model = Sequential([\n",
    "    keras.Input(shape=(25, 25, 1)),\n",
    "    layers.Conv2D(256, kernel_size=3, activation='relu'),\n",
    "    layers.MaxPooling2D(pool_size=2),\n",
    "    layers.Dropout(0.3),\n",
    "    layers.Conv2D(512, kernel_size=3, activation='relu'),\n",
    "    layers.MaxPooling2D(pool_size=2),\n",
    "    layers.Dropout(0.3),\n",
    "    layers.Conv2D(1024, kernel_size=3, activation='relu'),\n",
    "    layers.MaxPooling2D(pool_size=2),\n",
    "    layers.Dropout(0.3),\n",
    "    layers.Flatten(),\n",
    "    layers.Dense(10, activation='softmax')\n",
    "])"
   ]
  },
  {
   "cell_type": "code",
   "execution_count": 7,
   "id": "49b714a9-645a-4d84-86ee-15a0305a752f",
   "metadata": {},
   "outputs": [],
   "source": [
    "model.compile(optimizer='adam', loss='categorical_crossentropy', metrics=['accuracy'])\n"
   ]
  },
  {
   "cell_type": "code",
   "execution_count": 8,
   "id": "2119047b-bb5d-4188-a33f-bda7b0f982cb",
   "metadata": {
    "scrolled": true
   },
   "outputs": [
    {
     "name": "stdout",
     "output_type": "stream",
     "text": [
      "Epoch 1/4\n",
      "\u001b[1m469/469\u001b[0m \u001b[32m━━━━━━━━━━━━━━━━━━━━\u001b[0m\u001b[37m\u001b[0m \u001b[1m186s\u001b[0m 396ms/step - accuracy: 0.8623 - loss: 0.4277 - val_accuracy: 0.9884 - val_loss: 0.0378\n",
      "Epoch 2/4\n",
      "\u001b[1m469/469\u001b[0m \u001b[32m━━━━━━━━━━━━━━━━━━━━\u001b[0m\u001b[37m\u001b[0m \u001b[1m186s\u001b[0m 396ms/step - accuracy: 0.9836 - loss: 0.0522 - val_accuracy: 0.9903 - val_loss: 0.0306\n",
      "Epoch 3/4\n",
      "\u001b[1m469/469\u001b[0m \u001b[32m━━━━━━━━━━━━━━━━━━━━\u001b[0m\u001b[37m\u001b[0m \u001b[1m185s\u001b[0m 395ms/step - accuracy: 0.9891 - loss: 0.0346 - val_accuracy: 0.9907 - val_loss: 0.0311\n",
      "Epoch 4/4\n",
      "\u001b[1m469/469\u001b[0m \u001b[32m━━━━━━━━━━━━━━━━━━━━\u001b[0m\u001b[37m\u001b[0m \u001b[1m183s\u001b[0m 390ms/step - accuracy: 0.9914 - loss: 0.0285 - val_accuracy: 0.9915 - val_loss: 0.0261\n"
     ]
    },
    {
     "data": {
      "text/plain": [
       "<keras.src.callbacks.history.History at 0x16bdacdd0>"
      ]
     },
     "execution_count": 8,
     "metadata": {},
     "output_type": "execute_result"
    }
   ],
   "source": [
    "model.fit(x_train, y_train, batch_size=128, epochs=4, validation_data=(x_test, y_test))\n"
   ]
  },
  {
   "cell_type": "code",
   "execution_count": 9,
   "id": "5f0ae591-e752-4c2f-8eec-21bb806c1240",
   "metadata": {},
   "outputs": [
    {
     "name": "stdout",
     "output_type": "stream",
     "text": [
      "\u001b[1m313/313\u001b[0m \u001b[32m━━━━━━━━━━━━━━━━━━━━\u001b[0m\u001b[37m\u001b[0m \u001b[1m7s\u001b[0m 21ms/step - accuracy: 0.9884 - loss: 0.0343\n",
      "Test accuracy: 0.9915000200271606\n"
     ]
    }
   ],
   "source": [
    "test_loss, test_acc = model.evaluate(x_test, y_test)\n",
    "print(f'Test accuracy: {test_acc}')"
   ]
  },
  {
   "cell_type": "raw",
   "id": "c78131f4-4150-4b29-8861-4aa2f9c52a1c",
   "metadata": {},
   "source": [
    "model.save('../number.keras')"
   ]
  },
  {
   "cell_type": "code",
   "execution_count": 10,
   "id": "3c3562c1-2211-4565-9795-c51d21070ca3",
   "metadata": {},
   "outputs": [],
   "source": [
    "model.save('../number.keras')"
   ]
  },
  {
   "cell_type": "code",
   "execution_count": null,
   "id": "62655dd0-03a0-4dd9-ad94-5482ec427f50",
   "metadata": {},
   "outputs": [],
   "source": []
  }
 ],
 "metadata": {
  "kernelspec": {
   "display_name": "Python 3 (ipykernel)",
   "language": "python",
   "name": "python3"
  },
  "language_info": {
   "codemirror_mode": {
    "name": "ipython",
    "version": 3
   },
   "file_extension": ".py",
   "mimetype": "text/x-python",
   "name": "python",
   "nbconvert_exporter": "python",
   "pygments_lexer": "ipython3",
   "version": "3.12.5"
  }
 },
 "nbformat": 4,
 "nbformat_minor": 5
}
